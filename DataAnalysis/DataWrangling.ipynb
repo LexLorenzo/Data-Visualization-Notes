{
 "cells": [
  {
   "cell_type": "code",
   "execution_count": 5,
   "metadata": {},
   "outputs": [
    {
     "name": "stdout",
     "output_type": "stream",
     "text": [
      "ticker     object\n",
      "date       object\n",
      "open      float64\n",
      "high      float64\n",
      "low       float64\n",
      "close     float64\n",
      "volume      int64\n",
      "dtype: object\n"
     ]
    }
   ],
   "source": [
    "import pandas as pd\n",
    "df = pd.read_csv('data/faang.csv')\n",
    "print(df.dtypes)"
   ]
  },
  {
   "cell_type": "markdown",
   "metadata": {},
   "source": [
    " With 'faang' dataset, use type conversion to change the date column into a datetime and the volume column into integers. Then, sort by date and ticker."
   ]
  },
  {
   "cell_type": "code",
   "execution_count": 6,
   "metadata": {},
   "outputs": [
    {
     "name": "stdout",
     "output_type": "stream",
     "text": [
      "ticker            object\n",
      "date      datetime64[ns]\n",
      "open             float64\n",
      "high             float64\n",
      "low              float64\n",
      "close            float64\n",
      "volume             int32\n",
      "dtype: object\n"
     ]
    }
   ],
   "source": [
    "df=df.assign(\n",
    "    date=pd.to_datetime(df.date),\n",
    "    volume=df.volume.astype('int')\n",
    ")\n",
    "print(df.dtypes)"
   ]
  },
  {
   "cell_type": "code",
   "execution_count": 7,
   "metadata": {},
   "outputs": [
    {
     "name": "stdout",
     "output_type": "stream",
     "text": [
      "     ticker       date       open       high        low      close    volume\n",
      "251    AAPL 2018-01-02   166.9271   169.0264   166.0442   168.9872  25555934\n",
      "502    AMZN 2018-01-02  1172.0000  1190.0000  1170.5100  1189.0100   2694494\n",
      "0        FB 2018-01-02   177.6800   181.5800   177.5500   181.4200  18151903\n",
      "1004   GOOG 2018-01-02  1048.3400  1066.9400  1045.2300  1065.0000   1237564\n",
      "753    NFLX 2018-01-02   196.1000   201.6500   195.4200   201.0700  10966889\n"
     ]
    }
   ],
   "source": [
    "df=df.sort_values(by=['date', 'ticker'])\n",
    "print(df.head())"
   ]
  },
  {
   "cell_type": "markdown",
   "metadata": {},
   "source": [
    "Find the seven rows with the highest value for volume."
   ]
  },
  {
   "cell_type": "code",
   "execution_count": 8,
   "metadata": {},
   "outputs": [
    {
     "name": "stdout",
     "output_type": "stream",
     "text": [
      "    ticker       date      open      high       low     close     volume\n",
      "142     FB 2018-07-26  174.8900  180.1300  173.7500  176.2600  169803668\n",
      "53      FB 2018-03-20  167.4700  170.2000  161.9500  168.1500  129851768\n",
      "57      FB 2018-03-26  160.8200  161.1000  149.0200  160.0600  126116634\n",
      "54      FB 2018-03-21  164.8000  173.4000  163.3000  169.3900  106598834\n",
      "433   AAPL 2018-09-21  219.0727  219.6482  215.6097  215.9768   96246748\n",
      "496   AAPL 2018-12-21  156.1901  157.4845  148.9909  150.0862   95744384\n",
      "463   AAPL 2018-11-02  207.9295  211.9978  203.8414  205.8755   91328654\n"
     ]
    }
   ],
   "source": [
    "print(df.nlargest(n=7, columns='volume'))"
   ]
  },
  {
   "cell_type": "markdown",
   "metadata": {},
   "source": [
    "Right now the data is somewhere between long and wide format. Use melt() to make it a completely long format. Hint: date and ticker are our ID variables (they uniquely identify each row). We need to melt the rest so that we don't have separate columns for open, high, low, close, and volume."
   ]
  },
  {
   "cell_type": "code",
   "execution_count": 9,
   "metadata": {},
   "outputs": [
    {
     "name": "stdout",
     "output_type": "stream",
     "text": [
      "        date ticker variable      value\n",
      "0 2018-01-02   AAPL     open   166.9271\n",
      "1 2018-01-02   AMZN     open  1172.0000\n",
      "2 2018-01-02     FB     open   177.6800\n",
      "3 2018-01-02   GOOG     open  1048.3400\n",
      "4 2018-01-02   NFLX     open   196.1000\n"
     ]
    }
   ],
   "source": [
    "df = pd.melt(df, id_vars=['date', 'ticker'], \n",
    "                  value_vars=['open', 'high', 'low', 'close', 'volume'], \n",
    "                  )\n",
    "print(df.head())"
   ]
  },
  {
   "cell_type": "markdown",
   "metadata": {},
   "source": [
    "Suppose we found out there was a glitch in how the data was recorded on July 26, 2018. How should we handle this? Note that there is no coding required for this exercise."
   ]
  },
  {
   "cell_type": "markdown",
   "metadata": {},
   "source": [
    "Firstly, I would identify which among the variables and data points had an error. Secondly, if I can contact the data providers, I would consult with them how the glitch happened and correct the data points accordingly. Else, I would isolate the data in that date and figure out a way to correct the data myself."
   ]
  }
 ],
 "metadata": {
  "kernelspec": {
   "display_name": "Python 3",
   "language": "python",
   "name": "python3"
  },
  "language_info": {
   "codemirror_mode": {
    "name": "ipython",
    "version": 3
   },
   "file_extension": ".py",
   "mimetype": "text/x-python",
   "name": "python",
   "nbconvert_exporter": "python",
   "pygments_lexer": "ipython3",
   "version": "3.12.1"
  }
 },
 "nbformat": 4,
 "nbformat_minor": 2
}
