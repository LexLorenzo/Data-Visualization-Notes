{
 "cells": [
  {
   "cell_type": "markdown",
   "metadata": {},
   "source": [
    "# Part 1: Introduction to NumPy"
   ]
  },
  {
   "cell_type": "markdown",
   "metadata": {},
   "source": [
    "## Task 1: Creating Arrays\n",
    "Create a 1D NumPy array containing the numbers from 1 to 15."
   ]
  },
  {
   "cell_type": "code",
   "execution_count": 172,
   "metadata": {},
   "outputs": [
    {
     "name": "stdout",
     "output_type": "stream",
     "text": [
      "[ 1  2  3  4  5  6  7  8  9 10 11 12 13 14 15]\n"
     ]
    }
   ],
   "source": [
    "import numpy as np\n",
    "list1 = [1,2,3,4,5,6,7,8,9,10,11,12,13,14,15]\n",
    "arr = np.array(list1) # Convert list into NumPy array\n",
    "print(arr)"
   ]
  },
  {
   "cell_type": "markdown",
   "metadata": {},
   "source": [
    "## Task 2: Reshaping Arrays\n",
    "Reshape the 1D array from Task 1 into a 3x5 2D array."
   ]
  },
  {
   "cell_type": "code",
   "execution_count": 173,
   "metadata": {},
   "outputs": [
    {
     "name": "stdout",
     "output_type": "stream",
     "text": [
      "[[ 1  2  3  4  5]\n",
      " [ 6  7  8  9 10]\n",
      " [11 12 13 14 15]]\n"
     ]
    }
   ],
   "source": [
    "arr = arr.reshape(3, 5) # Reshape\n",
    "print(arr)"
   ]
  },
  {
   "cell_type": "markdown",
   "metadata": {},
   "source": [
    "## Task 3: Basic Arithmetic Operations\n",
    "Create a new array by adding 2 to every element in the 2D array from Task 2."
   ]
  },
  {
   "cell_type": "code",
   "execution_count": 174,
   "metadata": {},
   "outputs": [
    {
     "name": "stdout",
     "output_type": "stream",
     "text": [
      "[[ 3  4  5  6  7]\n",
      " [ 8  9 10 11 12]\n",
      " [13 14 15 16 17]]\n"
     ]
    }
   ],
   "source": [
    "new_arr = arr + 2 # Add 2 to each element\n",
    "print(new_arr)"
   ]
  },
  {
   "cell_type": "markdown",
   "metadata": {},
   "source": [
    "## Task 4: Array Indexing and Slicing\n",
    "Extract the second row from the 2D array you created in Task 2."
   ]
  },
  {
   "cell_type": "code",
   "execution_count": 175,
   "metadata": {},
   "outputs": [
    {
     "name": "stdout",
     "output_type": "stream",
     "text": [
      "[ 6  7  8  9 10]\n"
     ]
    }
   ],
   "source": [
    "print(arr[1]) # Extraction of second row"
   ]
  },
  {
   "cell_type": "markdown",
   "metadata": {},
   "source": [
    "## Task 5: Element-wise Operations\n",
    "Multiply each element in the 2D array by 3 and store the result in a new array."
   ]
  },
  {
   "cell_type": "code",
   "execution_count": 176,
   "metadata": {},
   "outputs": [
    {
     "name": "stdout",
     "output_type": "stream",
     "text": [
      "[[ 3  6  9 12 15]\n",
      " [18 21 24 27 30]\n",
      " [33 36 39 42 45]]\n"
     ]
    }
   ],
   "source": [
    "new_array2 = arr * 3 # Multiply by 3\n",
    "print(new_array2)"
   ]
  },
  {
   "cell_type": "markdown",
   "metadata": {},
   "source": [
    "## Task 6: Basic Statistics\n",
    "Calculate the mean and sum of all elements in the array from Task 5."
   ]
  },
  {
   "cell_type": "code",
   "execution_count": 177,
   "metadata": {},
   "outputs": [
    {
     "name": "stdout",
     "output_type": "stream",
     "text": [
      "Mean: 24.0\n",
      "Sum: 360\n"
     ]
    }
   ],
   "source": [
    "mean = new_array2.mean() # Calculation of Mean\n",
    "sum = new_array2.sum() # Calculation of Sum\n",
    "\n",
    "print(f'Mean: {mean}')\n",
    "print(f'Sum: {sum}')"
   ]
  },
  {
   "cell_type": "markdown",
   "metadata": {},
   "source": [
    "# Part 2: Introduction to Pandas"
   ]
  },
  {
   "cell_type": "code",
   "execution_count": 178,
   "metadata": {},
   "outputs": [],
   "source": [
    "import pandas as pd"
   ]
  },
  {
   "cell_type": "markdown",
   "metadata": {},
   "source": [
    "## Task 7: Creating DataFrames\n",
    "Create a Pandas DataFrame using the following data:\n",
    "\n",
    "```\n",
    " data = {\n",
    "    'Name': ['Tom', 'Jane', 'Steve'],\n",
    "    'Age': [28, 34, 29],\n",
    "    'Salary': [50000, 60000, 55000]\n",
    "}\n",
    "```"
   ]
  },
  {
   "cell_type": "code",
   "execution_count": 179,
   "metadata": {},
   "outputs": [
    {
     "name": "stdout",
     "output_type": "stream",
     "text": [
      "    Name  Age  Salary\n",
      "0    Tom   28   50000\n",
      "1   Jane   34   60000\n",
      "2  Steve   29   55000\n"
     ]
    }
   ],
   "source": [
    "data = {\n",
    "    'Name': ['Tom', 'Jane', 'Steve'],\n",
    "    'Age': [28, 34, 29],\n",
    "    'Salary': [50000, 60000, 55000]\n",
    "}\n",
    "\n",
    "df = pd.DataFrame(data) # Convert dictionary into DataFrame \n",
    "print(df)"
   ]
  },
  {
   "cell_type": "markdown",
   "metadata": {},
   "source": [
    "## Task 8: Accessing DataFrame Columns\n",
    "Select the 'Name' column from the DataFrame and display it."
   ]
  },
  {
   "cell_type": "code",
   "execution_count": 180,
   "metadata": {},
   "outputs": [
    {
     "name": "stdout",
     "output_type": "stream",
     "text": [
      "0      Tom\n",
      "1     Jane\n",
      "2    Steve\n",
      "Name: Name, dtype: object\n"
     ]
    }
   ],
   "source": [
    "print(df['Name']) # Displaying of column \"Name\""
   ]
  },
  {
   "cell_type": "markdown",
   "metadata": {},
   "source": [
    "## Task 9: Adding a New Column\n",
    "Add a new column to the DataFrame called 'Bonus', which is 10% of the 'Salary'."
   ]
  },
  {
   "cell_type": "code",
   "execution_count": 181,
   "metadata": {},
   "outputs": [
    {
     "name": "stdout",
     "output_type": "stream",
     "text": [
      "    Name  Age  Salary   Bonus\n",
      "0    Tom   28   50000  5000.0\n",
      "1   Jane   34   60000  6000.0\n",
      "2  Steve   29   55000  5500.0\n"
     ]
    }
   ],
   "source": [
    "df.insert(3, 'Bonus', df['Salary'] * 0.1) # Insert with checking of duplicates\n",
    "print(df)"
   ]
  },
  {
   "cell_type": "markdown",
   "metadata": {},
   "source": [
    "## Task 10: Basic DataFrame Statistics\n",
    "Calculate the average salary of all individuals in the DataFrame."
   ]
  },
  {
   "cell_type": "code",
   "execution_count": 182,
   "metadata": {},
   "outputs": [
    {
     "name": "stdout",
     "output_type": "stream",
     "text": [
      "55000.0\n"
     ]
    }
   ],
   "source": [
    "average = df['Salary'].values.sum() / df['Salary'].count() # Calculation for average salary\n",
    "print(average)"
   ]
  }
 ],
 "metadata": {
  "kernelspec": {
   "display_name": "Python 3",
   "language": "python",
   "name": "python3"
  },
  "language_info": {
   "codemirror_mode": {
    "name": "ipython",
    "version": 3
   },
   "file_extension": ".py",
   "mimetype": "text/x-python",
   "name": "python",
   "nbconvert_exporter": "python",
   "pygments_lexer": "ipython3",
   "version": "3.12.1"
  }
 },
 "nbformat": 4,
 "nbformat_minor": 2
}
